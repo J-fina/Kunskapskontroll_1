{
 "cells": [
  {
   "cell_type": "markdown",
   "id": "dacf74e6",
   "metadata": {},
   "source": [
    "# NumPy"
   ]
  },
  {
   "cell_type": "markdown",
   "id": "01b2bf34",
   "metadata": {},
   "source": [
    "Read the links: https://numpy.org/doc/stable/user/quickstart.html  and https://numpy.org/doc/stable/user/basics.broadcasting.html  before solving the exercises. "
   ]
  },
  {
   "cell_type": "code",
   "execution_count": 3,
   "id": "1f79e4a6",
   "metadata": {},
   "outputs": [],
   "source": [
    "import numpy as np"
   ]
  },
  {
   "cell_type": "markdown",
   "id": "7dae6889",
   "metadata": {},
   "source": [
    "### Print out the dimension (number of axes), shape, size and the datatype of the matrix A."
   ]
  },
  {
   "cell_type": "code",
   "execution_count": 4,
   "id": "7b3678cd",
   "metadata": {},
   "outputs": [],
   "source": [
    "A = np.arange(1, 16).reshape(3,5)"
   ]
  },
  {
   "cell_type": "code",
   "execution_count": 46,
   "id": "31d39235",
   "metadata": {},
   "outputs": [
    {
     "name": "stdout",
     "output_type": "stream",
     "text": [
      "Number of dimensions (axes): 2\n",
      "\n",
      "Shape: (3, 5)\n",
      "\n",
      "Size (total elements): 15\n",
      "\n",
      "Data type: <class 'numpy.ndarray'>\n",
      "\n"
     ]
    }
   ],
   "source": [
    "# Print out dimension (number of axes)\n",
    "print(f\"Number of dimensions (axes): {A.ndim}\")\n",
    "print()\n",
    "\n",
    "# Shape\n",
    "print(f\"Shape: {A.shape}\")\n",
    "print()\n",
    "\n",
    "# Size\n",
    "print(f\"Size (total elements): {A.size}\")\n",
    "print()\n",
    "\n",
    "# Type\n",
    "print(f\"Data type: {type(A)}\")\n",
    "print()"
   ]
  },
  {
   "cell_type": "markdown",
   "id": "e56d2a96",
   "metadata": {},
   "source": [
    "### Do the following computations on the matrices B and C: \n",
    "* Elementwise subtraction. \n",
    "* Elementwise multiplication. \n",
    "* Matrix multiplication (by default you should use the @ operator)."
   ]
  },
  {
   "cell_type": "code",
   "execution_count": 6,
   "id": "a7053fbb",
   "metadata": {},
   "outputs": [
    {
     "name": "stdout",
     "output_type": "stream",
     "text": [
      "[[1 2 3]\n",
      " [4 5 6]\n",
      " [7 8 9]]\n",
      "\n",
      "[[2. 2. 2.]\n",
      " [2. 2. 2.]\n",
      " [2. 2. 2.]]\n"
     ]
    }
   ],
   "source": [
    "B = np.arange(1, 10).reshape(3, 3)\n",
    "C = np.ones((3, 3))*2\n",
    "\n",
    "print(B)\n",
    "print()\n",
    "print(C)"
   ]
  },
  {
   "cell_type": "code",
   "execution_count": 14,
   "id": "3cd794ae",
   "metadata": {},
   "outputs": [
    {
     "name": "stdout",
     "output_type": "stream",
     "text": [
      "[[-1.  0.  1.]\n",
      " [ 2.  3.  4.]\n",
      " [ 5.  6.  7.]]\n",
      "\n",
      "[[ 2.  4.  6.]\n",
      " [ 8. 10. 12.]\n",
      " [14. 16. 18.]]\n",
      "\n",
      "[[12. 12. 12.]\n",
      " [30. 30. 30.]\n",
      " [48. 48. 48.]]\n"
     ]
    }
   ],
   "source": [
    "# Elementwise subtraction\n",
    "D = B - C\n",
    "print(D)\n",
    "print()\n",
    "\n",
    "# Elementwise multiplication\n",
    "E = B * C\n",
    "print(E)\n",
    "print()\n",
    "\n",
    "# Matrix multiplication\n",
    "F = B @ C\n",
    "print(F)"
   ]
  },
  {
   "cell_type": "markdown",
   "id": "96030d53",
   "metadata": {},
   "source": [
    "### Do the following calculations on the matrix:\n",
    "* Exponentiate each number elementwise (use the np.exp function).\n",
    "\n",
    "* Calculate the minimum value in the whole matrix. \n",
    "* Calculcate the minimum value in each row. \n",
    "* Calculcate the minimum value in each column. \n",
    "\n",
    "\n",
    "* Find the index value for the minimum value in the whole matrix (hint: use np.argmin).\n",
    "* Find the index value for the minimum value in each row (hint: use np.argmin).\n",
    "\n",
    "\n",
    "* Calculate the sum for all elements.\n",
    "* Calculate the mean for each column. \n",
    "* Calculate the median for each column. "
   ]
  },
  {
   "cell_type": "code",
   "execution_count": 38,
   "id": "f8a9166b",
   "metadata": {},
   "outputs": [
    {
     "name": "stdout",
     "output_type": "stream",
     "text": [
      "[[1 2 3]\n",
      " [4 5 6]\n",
      " [7 8 9]]\n"
     ]
    }
   ],
   "source": [
    "B = np.arange(1, 10).reshape(3, 3)\n",
    "print(B)"
   ]
  },
  {
   "cell_type": "code",
   "execution_count": 52,
   "id": "f03f24f7",
   "metadata": {},
   "outputs": [
    {
     "name": "stdout",
     "output_type": "stream",
     "text": [
      "Exponentiate number: \n",
      "[[2.71828183e+00 7.38905610e+00 2.00855369e+01]\n",
      " [5.45981500e+01 1.48413159e+02 4.03428793e+02]\n",
      " [1.09663316e+03 2.98095799e+03 8.10308393e+03]]\n",
      "\n",
      "Calculate min value in whole matrix: \n",
      "1\n",
      "\n",
      "Calculate min Value in each row: \n",
      "[1 4 7]\n",
      "\n",
      "Calculate min value in each column: \n",
      "[1 2 3]\n",
      "\n",
      "Index value for the minimum value in the whole matrix: \n",
      "0\n",
      "\n",
      "Index value for the minimum value in each row: \n",
      "[0 0 0]\n",
      "\n",
      "Calculate the sum for all elements: \n",
      "45\n",
      "\n",
      "Calculate the mean for each column: \n",
      "[4. 5. 6.]\n",
      "\n",
      "Calculate the median for each column: \n",
      "[4. 5. 6.]\n",
      "\n"
     ]
    }
   ],
   "source": [
    "# Exponentiate number\n",
    "C = np.exp(B)\n",
    "print(f\"Exponentiate number: \\n{C}\\n\")\n",
    "\n",
    "# Calculate min value in whole matrix\n",
    "D = B.min()\n",
    "print(f\"Calculate min value in whole matrix: \\n{D}\\n\")\n",
    "\n",
    "# Calculate min value in each row\n",
    "E = B.min(axis=1)\n",
    "print(f\"Calculate min Value in each row: \\n{E}\\n\")\n",
    "\n",
    "# Calculate min value in each column\n",
    "F = B.min(axis=0)\n",
    "print(f\"Calculate min value in each column: \\n{F}\\n\")\n",
    "\n",
    "# Index value for the minimum value in the whole matrix\n",
    "G = np.argmin(B)\n",
    "print(f\"Index value for the minimum value in the whole matrix: \\n{G}\\n\")\n",
    "\n",
    "# Index value for the minimum value in each row\n",
    "H = np.argmin(B, axis=1)\n",
    "print(f\"Index value for the minimum value in each row: \\n{H}\\n\")\n",
    "\n",
    "# Calculate the sum for all elements\n",
    "J = B.sum()\n",
    "print(f\"Calculate the sum for all elements: \\n{J}\\n\")\n",
    "\n",
    "# Calculate the mean for each column\n",
    "K = np.mean(B,axis=0)\n",
    "print(f\"Calculate the mean for each column: \\n{K}\\n\")\n",
    "\n",
    "# Calculate the median for each column\n",
    "L = np.median(B, axis=0)\n",
    "print(f\"Calculate the median for each column: \\n{L}\\n\")"
   ]
  },
  {
   "cell_type": "markdown",
   "id": "541eb7ba",
   "metadata": {},
   "source": [
    "### What does it mean when you provide fewer indices than axes when slicing? See example below."
   ]
  },
  {
   "cell_type": "code",
   "execution_count": 44,
   "id": "9c8abf56",
   "metadata": {},
   "outputs": [
    {
     "name": "stdout",
     "output_type": "stream",
     "text": [
      "[[ 1  2  3  4  5]\n",
      " [ 6  7  8  9 10]\n",
      " [11 12 13 14 15]]\n"
     ]
    }
   ],
   "source": [
    "print(A)"
   ]
  },
  {
   "cell_type": "code",
   "execution_count": 54,
   "id": "69415f7b",
   "metadata": {},
   "outputs": [
    {
     "data": {
      "text/plain": [
       "array([ 2,  7, 12])"
      ]
     },
     "execution_count": 54,
     "metadata": {},
     "output_type": "execute_result"
    }
   ],
   "source": [
    "A[1]"
   ]
  },
  {
   "cell_type": "markdown",
   "id": "6c53541b",
   "metadata": {},
   "source": [
    "**Answer:**"
   ]
  },
  {
   "cell_type": "markdown",
   "id": "9181a43a",
   "metadata": {},
   "source": [
    "When you provide fewer indices than are axes while slicing an array, entire rows or columns are returned depending on the axis you specified. In this example A[1], it returned the second row of the matrix. To return a column you have to specify the column index while slicing. You need to use a colon to indicate all rows, and then specify the column. For example A[:,1]."
   ]
  },
  {
   "cell_type": "markdown",
   "id": "6652d0c9",
   "metadata": {},
   "source": [
    "### Iterating over multidimensional arrays is done with respect to the first axis, so in the example below we iterate trough the rows. If you would like to iterate through the array *elementwise*, how would you do that?"
   ]
  },
  {
   "cell_type": "code",
   "execution_count": 55,
   "id": "9459864f",
   "metadata": {},
   "outputs": [
    {
     "data": {
      "text/plain": [
       "array([[ 1,  2,  3,  4,  5],\n",
       "       [ 6,  7,  8,  9, 10],\n",
       "       [11, 12, 13, 14, 15]])"
      ]
     },
     "execution_count": 55,
     "metadata": {},
     "output_type": "execute_result"
    }
   ],
   "source": [
    "A"
   ]
  },
  {
   "cell_type": "code",
   "execution_count": 56,
   "id": "a671bb5a",
   "metadata": {},
   "outputs": [
    {
     "name": "stdout",
     "output_type": "stream",
     "text": [
      "[1 2 3 4 5]\n",
      "[ 6  7  8  9 10]\n",
      "[11 12 13 14 15]\n"
     ]
    }
   ],
   "source": [
    "for i in A:\n",
    "    print(i)"
   ]
  },
  {
   "cell_type": "code",
   "execution_count": 59,
   "id": "f4e443a0",
   "metadata": {},
   "outputs": [
    {
     "name": "stdout",
     "output_type": "stream",
     "text": [
      "1\n",
      "2\n",
      "3\n",
      "4\n",
      "5\n",
      "6\n",
      "7\n",
      "8\n",
      "9\n",
      "10\n",
      "11\n",
      "12\n",
      "13\n",
      "14\n",
      "15\n"
     ]
    }
   ],
   "source": [
    "# Iterate throught the array elementwise by using .flat attribute\n",
    "for i in A.flat:\n",
    "    print(i)"
   ]
  },
  {
   "cell_type": "markdown",
   "id": "608a2583",
   "metadata": {},
   "source": [
    "### Explain what the code below does. More specifically, b has three axes - what does this mean? "
   ]
  },
  {
   "cell_type": "code",
   "execution_count": 60,
   "id": "f8f9b26f",
   "metadata": {},
   "outputs": [
    {
     "name": "stdout",
     "output_type": "stream",
     "text": [
      "[ 0  1  2  3  4  5  6  7  8  9 10 11 12 13 14 15 16 17 18 19 20 21 22 23\n",
      " 24 25 26 27 28 29]\n",
      "\n",
      "[[[ 0  1  2  3  4]\n",
      "  [ 5  6  7  8  9]\n",
      "  [10 11 12 13 14]]\n",
      "\n",
      " [[15 16 17 18 19]\n",
      "  [20 21 22 23 24]\n",
      "  [25 26 27 28 29]]]\n"
     ]
    }
   ],
   "source": [
    "a = np.arange(30)\n",
    "b = a.reshape((2, 3, -1))\n",
    "print(a)\n",
    "print()\n",
    "\n",
    "print(b)"
   ]
  },
  {
   "cell_type": "markdown",
   "id": "3991bdcb",
   "metadata": {},
   "source": [
    "#### a = np.arange()\n",
    "This creates a variable a. The function np.arange() is analogous to Python's range(), but it returns an array instead of a list. np.arange() is a NumPy function that creates an array of evenly spaced values within a given interval. In this case, it generates values starting from 0 up to, but not including, 30 (so from 0 to 29). The step value is defaulted to 1 unless specified otherwise.\n",
    "#### b = a.reshape(2, 3, -1)\n",
    "This creates a variable b. The function reshape() is used to change the shape of the array a into a 3-dimensional array. The first argument 2 means that the new array will have 2 blocks. The second argument 3 means that each block will have 3 rows. The third argument -1 automatically calculates the appropriate number of columns per row, based on the total number of elements. Here, since a has 30 elements, and we are reshaping it into 2 blocks and 3 rows, the -1 computes to 5 columns (since 30 ÷ (2 * 3) = 5).\n",
    "#### print(a) print() print(b)\n",
    "print(a) prints variable a. print() creats a empty row, and print(b) prints variable b."
   ]
  },
  {
   "cell_type": "markdown",
   "id": "ab5933d5",
   "metadata": {},
   "source": [
    "### Broadcasting\n",
    "**Read the following link about broadcasting: https://numpy.org/doc/stable/user/basics.broadcasting.html#basics-broadcasting**"
   ]
  },
  {
   "cell_type": "markdown",
   "id": "039805ba",
   "metadata": {},
   "source": [
    "# Remark on Broadcasting when doing Linear Algebra calculations in Python. "
   ]
  },
  {
   "cell_type": "markdown",
   "id": "c4bcc147",
   "metadata": {},
   "source": [
    "### From the mathematical rules of matrix addition, the operation below (m1 + m2) does not make sense. The reason is that matrix addition requires two matrices of the same size. In Python however, it works due to broadcasting rules in NumPy. So you must be careful when doing Linear Algebra calculations in Python since they do not follow the \"mathematical rules\". This can however easily be handled by doing some simple programming, for example validating that two matrices have the same shape is easy if you for instance want to add two matrices. "
   ]
  },
  {
   "cell_type": "code",
   "execution_count": null,
   "id": "1fd46778",
   "metadata": {},
   "outputs": [],
   "source": [
    "m1 = np.array([[1, 2], [3, 4]])\n",
    "m2 = np.array([1, 1])\n",
    "print(m1 + m2)"
   ]
  },
  {
   "cell_type": "markdown",
   "id": "047d6576",
   "metadata": {},
   "source": [
    "### The example below would also not be allowed if following the \"mathematical rules\" in Linear Algebra. But it works due to broadcasting in NumPy. "
   ]
  },
  {
   "cell_type": "code",
   "execution_count": null,
   "id": "5e6ef2e4",
   "metadata": {},
   "outputs": [],
   "source": [
    "v1 = np.array([1, 2, 3])\n",
    "print(v1 + 1)"
   ]
  },
  {
   "cell_type": "code",
   "execution_count": null,
   "id": "e2cbae26",
   "metadata": {},
   "outputs": [],
   "source": [
    "A = np.arange(1, 5).reshape(2,2)\n",
    "print(A)\n",
    "\n",
    "b = np.array([2, 2])\n",
    "print(b)"
   ]
  },
  {
   "cell_type": "markdown",
   "id": "722fd5cd",
   "metadata": {},
   "source": [
    "# Vector- and matrix algebra Exercises"
   ]
  },
  {
   "cell_type": "markdown",
   "id": "b63a3081-d976-4d9f-bfd0-a63917e79f7d",
   "metadata": {},
   "source": [
    "**Now you are going to create a function that can be reused every time you add or multiply matrices. The function is created so that we do the addition and multiplication according to the rules of vector- and matrix algebra.**\n",
    "\n",
    "**Create a function \"add_mult_matrices\" that takes two matrices as input arguments (validate that the input are of the type numpy.ndarray by using the isinstance function), a third argument that is either 'add' or 'multiply' that specifies if you want to add or multiply the matrices (validate that the third argument is either 'add' or 'multiply'). When doing matrix addition, validate that the matrices have the same size. When doing matrix multiplication, validate that the sizes conform (i.e. number of columns in the first matrix is equal to the number of rows in the second matrix).**"
   ]
  },
  {
   "cell_type": "code",
   "execution_count": 61,
   "id": "3506f977-ac0a-473f-85bc-eec9f35dc498",
   "metadata": {},
   "outputs": [],
   "source": [
    "def add_mult_matrices(matrice_1, matrice_2, operation):\n",
    "    # Make sure both inputs are matrices\n",
    "    if not isinstance(matrice_1, np.ndarray) or not isinstance(matrice_2, np.ndarray):\n",
    "        return \"Both inputs must be of type numpy.ndarray\"\n",
    "   \n",
    "    # Make sure the operation is either addtion or multiplication\n",
    "    if operation not in ['add', 'multiply']:\n",
    "        return \"Operation must be either 'add' or 'multiply'\"\n",
    "   \n",
    "    # Operation for addition\n",
    "    if operation == 'add':\n",
    "        # Make sure the moth matrices have the same shape for addition\n",
    "        if matrice_1.shape != matrice_2.shape:\n",
    "            return \"Matrices must have the same shape for addition\"\n",
    "        # Return theresult of the addition\n",
    "        return matrice_1 + matrice_2\n",
    "    \n",
    "    # Operation for multiplication\n",
    "    if operation == 'multiply':\n",
    "        # Make sure the matrices is suitible for multiplication\n",
    "        if matrice_1.shape[1] != matrice_2.shape[0]:\n",
    "            return \"Number of columns in the first matrix must equal the number of rows in the second matrix for multiplication\"\n",
    "        # Return the result of the multiplication\n",
    "        return np.dot(matrice_1, matrice_2)\n"
   ]
  },
  {
   "cell_type": "markdown",
   "id": "8dad82d0-2359-4dff-8f5b-a57d3e34103c",
   "metadata": {},
   "source": [
    "### Solve all the exercises in chapter 10.1 in the book \"Matematik för yrkeshögskolan\". "
   ]
  },
  {
   "cell_type": "markdown",
   "id": "c9766250",
   "metadata": {},
   "source": [
    "##### 10.1.1\n",
    "a. Vektorn x har två komponenter och är tvådimensionell."
   ]
  },
  {
   "cell_type": "code",
   "execution_count": 118,
   "id": "082045fb",
   "metadata": {},
   "outputs": [
    {
     "name": "stdout",
     "output_type": "stream",
     "text": [
      "Dimensionen av x: (2,)\n",
      "\n",
      "5x = [20 15]\n",
      "\n",
      "3x = [12  9]\n",
      "\n",
      "5x + 3x = [32 24]\n",
      "\n",
      "8x = [32 24]\n",
      "\n",
      "4x - x = [12  9]\n",
      "\n",
      "Transponeringen av x är: [4 3]\n",
      "Den nya dimensionen av x^T är: (2,)\n",
      "\n",
      "||x|| = 5.00\n"
     ]
    }
   ],
   "source": [
    "# a\n",
    "\n",
    "x = np.array([4, 3])\n",
    "print(f\"Dimensionen av x: {x.shape}\")\n",
    "print()\n",
    "\n",
    "# b\n",
    "\n",
    "b = 5 * x\n",
    "print(f\"5x = {b}\")\n",
    "print()\n",
    "\n",
    "#c\n",
    "\n",
    "c = 3 * x\n",
    "print(f\"3x = {c}\")\n",
    "print()\n",
    "\n",
    "# d\n",
    "\n",
    "d = 5 * x + 3 * x\n",
    "print(f\"5x + 3x = {d}\")\n",
    "print()\n",
    "\n",
    "# e\n",
    "\n",
    "e = 8 * x\n",
    "print(f\"8x = {e}\")\n",
    "print()\n",
    "\n",
    "# f\n",
    "\n",
    "f = 4 * x - x\n",
    "print(f\"4x - x = {f}\")\n",
    "print()\n",
    "\n",
    "# g\n",
    "\n",
    "x_T = x.T\n",
    "print(f\"Transponeringen av x är: {x_T}\")\n",
    "print(f\"Den nya dimensionen av x^T är: {x_T.shape}\")\n",
    "print()\n",
    "\n",
    "# h\n",
    "\n",
    "x_norm = np.linalg.norm(x)\n",
    "print(f\"||x|| = {x_norm:.2f}\")"
   ]
  },
  {
   "cell_type": "markdown",
   "id": "3cc0ae7d",
   "metadata": {},
   "source": [
    "##### 10.1.2"
   ]
  },
  {
   "cell_type": "code",
   "execution_count": 116,
   "id": "748906c2",
   "metadata": {},
   "outputs": [
    {
     "name": "stdout",
     "output_type": "stream",
     "text": [
      "Dimensionen av v: (4, 1)\n",
      "\n",
      "2 * v = [[ 6]\n",
      " [14]\n",
      " [ 0]\n",
      " [22]]\n",
      "\n",
      "5 * v + 2 * v = [[21]\n",
      " [49]\n",
      " [ 0]\n",
      " [77]]\n",
      "\n",
      "4 * v - 2 * v = [[ 6]\n",
      " [14]\n",
      " [ 0]\n",
      " [22]]\n",
      "\n",
      "Transponeringen av v är: [[ 3  7  0 11]]\n",
      "\n",
      "||v|| = 13.38\n"
     ]
    }
   ],
   "source": [
    "# a\n",
    "\n",
    "v = np.array([[3], [7], [0], [11]])\n",
    "print(f\"Dimensionen av v: {v.shape}\")\n",
    "print()\n",
    "\n",
    "# b\n",
    "\n",
    "b = 2 * v\n",
    "print(f\"2 * v = {b}\")\n",
    "print()\n",
    "\n",
    "# c\n",
    "\n",
    "c = 5 * v + 2 * v\n",
    "print(f\"5 * v + 2 * v = {c}\")\n",
    "print()\n",
    "\n",
    "# d\n",
    "\n",
    "d = 4 * v - 2 * v\n",
    "print(f\"4 * v - 2 * v = {d}\")\n",
    "print()\n",
    "\n",
    "# e\n",
    "\n",
    "v_T = v.T\n",
    "print(f\"Transponeringen av v är: {v_T}\")\n",
    "print()\n",
    "\n",
    "# f\n",
    "\n",
    "v_norm = np.linalg.norm(v)\n",
    "print(f\"||v|| = {v_norm:.2f}\")"
   ]
  },
  {
   "cell_type": "markdown",
   "id": "684439b0",
   "metadata": {},
   "source": [
    "##### 10.1.3"
   ]
  },
  {
   "cell_type": "code",
   "execution_count": 119,
   "id": "86a006b0",
   "metadata": {},
   "outputs": [
    {
     "name": "stdout",
     "output_type": "stream",
     "text": [
      "||v1|| = 7.14\n",
      "\n",
      "||v1 - v2|| = 3.2684450823354334\n"
     ]
    }
   ],
   "source": [
    "# a\n",
    "\n",
    "v1 = np.array([4, 3, 1, 5])\n",
    "v1 = np.linalg.norm(v1)\n",
    "print(f\"||v1|| = {v1:.2f}\")\n",
    "print()\n",
    "\n",
    "# b\n",
    "\n",
    "v2 = np.array([2, 3, 1, 1])\n",
    "v2 = np.linalg.norm(v2)\n",
    "diff = v1 - v2\n",
    "n_diff = np.linalg.norm(diff)\n",
    "print(f\"||v1 - v2|| = {n_diff}\")"
   ]
  },
  {
   "cell_type": "markdown",
   "id": "75c98984-1f88-4df1-b850-d2466de444a5",
   "metadata": {},
   "source": [
    "### Solve all the exercises, except 10.2.4, in chapter 10.2 in the book \"Matematik för yrkeshögskolan\". "
   ]
  },
  {
   "cell_type": "code",
   "execution_count": 146,
   "id": "65371610-16e1-48b2-b7fb-65e49002608a",
   "metadata": {},
   "outputs": [
    {
     "name": "stdout",
     "output_type": "stream",
     "text": [
      "[[ 4  2 -2]\n",
      " [ 2 -2  2]]\n",
      "\n",
      "[[ 0 -4  3]\n",
      " [ 0 -2 -4]]\n",
      "\n",
      "[[ 1  4]\n",
      " [ 2 -1]]\n",
      "\n",
      "[[3 2]\n",
      " [2 3]]\n",
      "\n",
      "[[ 9 12]\n",
      " [12  9]]\n",
      "\n",
      "[[-4 -4]\n",
      " [-4 -4]]\n",
      "\n",
      "Operation is not defined!\n",
      "\n",
      "Operation is not defined!\n",
      "\n",
      "[[19 16]\n",
      " [ 2  5]]\n",
      "\n",
      "[[  8 -10  -3]\n",
      " [ 10  -8   0]]\n",
      "\n"
     ]
    }
   ],
   "source": [
    "A = np.array([[2,1,-1],[1,-1,1]])\n",
    "B = np.array([[4,-2,1],[2,-4,-2]])\n",
    "C = np.array([[1,2],[2,1]])\n",
    "D = np.array([[3,4],[4,3]])\n",
    "E = np.array([[1],[2]])\n",
    "I = np.array([[1,0],[0,1]])\n",
    "\n",
    "# a\n",
    "try:\n",
    "    a = 2 * A\n",
    "    print(a)\n",
    "except ValueError as a:\n",
    "    print(\"Operation is not defined!\")\n",
    "print()\n",
    "\n",
    "# b\n",
    "\n",
    "try:\n",
    "    b = B - 2 * A\n",
    "    print(b)\n",
    "except ValueError as b:\n",
    "    print(\"Operation is not defined!\")\n",
    "print()\n",
    "\n",
    "# c\n",
    "\n",
    "try:\n",
    "    c = 3 * C - 2 * E\n",
    "    print(c)\n",
    "except ValueError as c:\n",
    "    print(\"Operation is not defined!\")\n",
    "print()\n",
    "\n",
    "# d\n",
    "\n",
    "try:\n",
    "    d = 2 * D - 3 * C\n",
    "    print(d)\n",
    "except ValueError as d:\n",
    "    print(\"Operation is not defined!\")\n",
    "print()\n",
    "\n",
    "# e\n",
    "\n",
    "D_T = D.T\n",
    "\n",
    "try:\n",
    "    e = D.T + 2 * D\n",
    "    print(e)\n",
    "except ValueError as e:\n",
    "    print(\"Operation is not defined!\")\n",
    "print()\n",
    "\n",
    "# f\n",
    "\n",
    "C_T = C.T\n",
    "\n",
    "try:\n",
    "    f = 2 * C_T - 2 * D_T\n",
    "    print(f)\n",
    "except ValueError as g:\n",
    "    print(\"Operation is not defined!\")\n",
    "print()\n",
    "\n",
    "# g\n",
    "\n",
    "A_T = A.T\n",
    "\n",
    "try:\n",
    "    g = A_T - B\n",
    "    print(g)\n",
    "except ValueError as g:\n",
    "    print(\"Operation is not defined!\")\n",
    "print()\n",
    "\n",
    "# h\n",
    "\n",
    "try:\n",
    "    h = A @ C\n",
    "    print(h)\n",
    "except ValueError as h:\n",
    "    print(\"Operation is not defined!\")\n",
    "print()\n",
    "\n",
    "# i\n",
    "\n",
    "try:\n",
    "    i = c @ D\n",
    "    print(i)\n",
    "except ValueError as i:\n",
    "    print(\"Operation is not defined!\")\n",
    "print()\n",
    "\n",
    "# j\n",
    "\n",
    "try:\n",
    "    j = C @ B\n",
    "    print(j)\n",
    "except ValueError as j:\n",
    "    print(\"Operation is not defined!\")\n",
    "print()\n"
   ]
  },
  {
   "cell_type": "code",
   "execution_count": 148,
   "id": "051809a1",
   "metadata": {},
   "outputs": [
    {
     "name": "stdout",
     "output_type": "stream",
     "text": [
      "[[1 2]\n",
      " [2 1]]\n",
      "\n",
      "[[5 2]\n",
      " [7 4]]\n"
     ]
    }
   ],
   "source": [
    "# k\n",
    "\n",
    "try:\n",
    "    k = C @ I\n",
    "    print(k)\n",
    "except ValueError as k:\n",
    "    print(\"Operation is not defined!\")\n",
    "print()\n",
    "\n",
    "# l\n",
    "\n",
    "B_T = B.T\n",
    "\n",
    "try:\n",
    "    l = A @ B_T\n",
    "    print(l)\n",
    "except ValueError as l:\n",
    "    print(\"Operation is not defined!\")"
   ]
  },
  {
   "cell_type": "markdown",
   "id": "9a6dfe87",
   "metadata": {},
   "source": [
    "##### 10.2.2"
   ]
  },
  {
   "cell_type": "code",
   "execution_count": 149,
   "id": "1a1124e6",
   "metadata": {},
   "outputs": [
    {
     "name": "stdout",
     "output_type": "stream",
     "text": [
      "[[29 26]\n",
      " [26 42]]\n"
     ]
    }
   ],
   "source": [
    "A = np.array([[2,3,4],[5,4,1]])\n",
    "\n",
    "A_T = A.T\n",
    "\n",
    "try:\n",
    "    multiplication_with_A = A @ A_T\n",
    "    print(multiplication_with_A)\n",
    "except ValueError as multiplication_with_A:\n",
    "    print(\"not defined!\")"
   ]
  },
  {
   "cell_type": "markdown",
   "id": "19769ece",
   "metadata": {},
   "source": [
    "##### 10.2.3"
   ]
  },
  {
   "cell_type": "code",
   "execution_count": 150,
   "id": "8b2e31ed",
   "metadata": {},
   "outputs": [
    {
     "name": "stdout",
     "output_type": "stream",
     "text": [
      "AB = \n",
      "[[ 4  7]\n",
      " [ 8 14]]\n",
      "\n",
      "AC = \n",
      "[[ 4  7]\n",
      " [ 8 14]]\n",
      "\n",
      "B are not equal to C!\n"
     ]
    }
   ],
   "source": [
    "# Define matrixes A, B & C\n",
    "A = ([[1,2],[2,4]])\n",
    "B = ([[2,1],[1,3]])\n",
    "C = ([[4,3],[0,2]])\n",
    "\n",
    "# Calculate AB and AC\n",
    "AB = np.dot(A,B)\n",
    "AC = np.dot(A,C)\n",
    "\n",
    "# Show that AB = AC\n",
    "print(\"AB = \")\n",
    "print(AB)\n",
    "print(\"\\nAC = \")\n",
    "print(AC)\n",
    "\n",
    "# Show that B is not equal to C\n",
    "are_equal = np.array_equal(B,C)\n",
    "if not are_equal:\n",
    "    print(\"\\nB are not equal to C!\")\n",
    "else:\n",
    "    print(\"\\nB is equal to C!\")\n"
   ]
  },
  {
   "cell_type": "markdown",
   "id": "6a4a524f",
   "metadata": {},
   "source": [
    "### Copies and Views\n",
    "Read the following link: https://numpy.org/doc/stable/user/basics.copies.html"
   ]
  },
  {
   "cell_type": "markdown",
   "id": "6cbbeaf7",
   "metadata": {},
   "source": [
    "**Basic indexing creates a view, How can you check if v1 and v2 is a view or copy? If you change the last element in v2 to 123, will the last element in v1 be changed? Why?**"
   ]
  },
  {
   "cell_type": "code",
   "execution_count": 62,
   "id": "5b9ef4df",
   "metadata": {},
   "outputs": [
    {
     "name": "stdout",
     "output_type": "stream",
     "text": [
      "[0 1 2 3]\n",
      "[2 3]\n"
     ]
    }
   ],
   "source": [
    "v1 = np.arange(4)\n",
    "v2 = v1[-2:]\n",
    "print(v1)\n",
    "print(v2)"
   ]
  },
  {
   "cell_type": "code",
   "execution_count": 63,
   "id": "d2440489",
   "metadata": {},
   "outputs": [
    {
     "name": "stdout",
     "output_type": "stream",
     "text": [
      "None\n",
      "[0 1 2 3]\n"
     ]
    }
   ],
   "source": [
    "# The base attribute of a view returns the original array while it returns None for a copy.\n",
    "print(v1.base)\n",
    "print(v2.base)"
   ]
  },
  {
   "cell_type": "code",
   "execution_count": 64,
   "id": "c8752807",
   "metadata": {},
   "outputs": [
    {
     "name": "stdout",
     "output_type": "stream",
     "text": [
      "[  0   1   2 123]\n",
      "[  2 123]\n"
     ]
    }
   ],
   "source": [
    "# The last element in v1 will be changed aswell since v2 is a view, meaning they share the same data buffer.\n",
    "v2[-1] = 123\n",
    "print(v1)\n",
    "print(v2)"
   ]
  },
  {
   "cell_type": "markdown",
   "id": "e2c7a4a1",
   "metadata": {},
   "source": [
    "How can you check if v1 and v2 is a view or copy?\n",
    "Answer: The base attribute of a view returns the original array while it returns None for a copy. We see that v1 are a copy.\n",
    "\n",
    "If you change the last element in v2 to 123, will the last element in v1 be changed? Why?\n",
    "Answer: The last element in v1 will be changed aswell since v2 is a view, meaning they share the same data buffer. That means that v1 and v2 share the same data. Therefore, when you change v2, changes also the element in v1. Both v1 and v2 refers to the same  data in the memory. "
   ]
  }
 ],
 "metadata": {
  "kernelspec": {
   "display_name": "Python 3",
   "language": "python",
   "name": "python3"
  },
  "language_info": {
   "codemirror_mode": {
    "name": "ipython",
    "version": 3
   },
   "file_extension": ".py",
   "mimetype": "text/x-python",
   "name": "python",
   "nbconvert_exporter": "python",
   "pygments_lexer": "ipython3",
   "version": "3.12.4"
  }
 },
 "nbformat": 4,
 "nbformat_minor": 5
}
